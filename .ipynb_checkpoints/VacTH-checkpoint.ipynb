{
 "cells": [
  {
   "cell_type": "code",
   "execution_count": null,
   "id": "b587d55c-f6ce-4045-b576-b56d68af5e58",
   "metadata": {},
   "outputs": [],
   "source": [
    "ClearAll[zeta, eta, R, Z, Rp, Zp, aE, bE, aI, bI, an, bn, psi, dPsiDzeta, dPsiDeta];"
   ]
  },
  {
   "cell_type": "code",
   "execution_count": null,
   "id": "08779455-7f41-4366-bb83-467204da36ed",
   "metadata": {},
   "outputs": [],
   "source": [
    "zeta = Symbol[\"zeta\"];\n",
    "eta = Symbol[\"eta\"];"
   ]
  },
  {
   "cell_type": "code",
   "execution_count": null,
   "id": "ea053b81-0417-41c1-9829-7c759e5c8888",
   "metadata": {},
   "outputs": [],
   "source": [
    "lengthaEbE = 7;\n",
    "lengthaIbI = 4;"
   ]
  },
  {
   "cell_type": "code",
   "execution_count": null,
   "id": "00eca648-259e-4a2c-b2cb-4077aff922d3",
   "metadata": {},
   "outputs": [],
   "source": [
    "aE = Array[aEvar, lengthaEbE];\n",
    "bE = Array[bEvar, lengthaEbE];\n",
    "aI = Array[aIvar, lengthaIbI];\n",
    "bI = Array[bIvar, lengthaIbI];\n",
    "\n",
    "aE = Normalize[aE]*lengthaEbE;\n",
    "bE = Normalize[bE]*lengthaEbE;\n",
    "aI = Normalize[aI]*lengthaIbI;\n",
    "bI = Normalize[bI]*lengthaIbI;"
   ]
  },
  {
   "cell_type": "code",
   "execution_count": null,
   "id": "b14aa2a3-dc93-48b8-b4c8-7dc91e8ed417",
   "metadata": {},
   "outputs": [],
   "source": [
    "commonFactorBase = Sinh[zeta]/(Cosh[zeta] - Cos[eta]);\n",
    "\n",
    "psiBase = commonFactorBase*\n",
    "   (Sum[aE[n]*LegendreQ[n - 0.5, 1, Cosh[zeta]]*Cos[n*eta], {n, 0, an}] +\n",
    "     Sum[bE[n]*LegendreQ[n - 0.5, 1, Cosh[zeta]]*Sin[n*eta], {n, 1, bn}] +\n",
    "     Sum[aI[n]*LegendreP[n - 0.5, 1, Cosh[zeta]]*Cos[n*eta], {n, 0, an - 1}] +\n",
    "     Sum[bI[n]*LegendreP[n - 0.5, 1, Cosh[zeta]]*Sin[n*eta], {n, 1, bn - 1}]);"
   ]
  },
  {
   "cell_type": "code",
   "execution_count": null,
   "id": "72f8725f-6e09-4b00-9714-c26fdc0a105a",
   "metadata": {},
   "outputs": [],
   "source": [
    "dPsiDzetaBase = Simplify[D[psiBase, zeta]];\n",
    "dPsiDetaBase = Simplify[D[psiBase, eta]];"
   ]
  },
  {
   "cell_type": "code",
   "execution_count": null,
   "id": "84d9078a-ae7a-4a87-ba0a-8db6ae8299cf",
   "metadata": {},
   "outputs": [],
   "source": [
    "zetaRZ[R_, Z_, Rp_, Zp_] := ArcTanh[2/(R/Rp + (Z - Zp)^2/(R Rp) + Rp/R)];\n",
    "etaRZ[R_, Z_, Rp_, Zp_] := ArcTan[(Z - Zp)/(R - Rp)];"
   ]
  },
  {
   "cell_type": "code",
   "execution_count": null,
   "id": "d79a924d-0ef0-424a-b7de-f3c682a37b37",
   "metadata": {},
   "outputs": [],
   "source": [
    "RexprSym = Rp*Sinh[zeta]/(Cosh[zeta] - Cos[eta]);\n",
    "ZexprSym = Zp + (Rp*Sin[eta]/(Cosh[zeta] - Cos[eta]));"
   ]
  },
  {
   "cell_type": "code",
   "execution_count": null,
   "id": "b90fd408-2ce6-45c2-8192-950faf1525a4",
   "metadata": {},
   "outputs": [],
   "source": [
    "JacobianSym = {{D[RexprSym, zeta], \n",
    "    D[RexprSym, eta]}, {D[ZexprSym, zeta], D[ZexprSym, eta]}};\n",
    "\n",
    "JacobianInvSym = Simplify[Inverse[JacobianSym]];\n",
    "\n",
    "(*Extract symbolic derivatives of zeta and eta with respect to R and \\Z*)\n",
    "dZetaDRSym = JacobianInvSym[[1, 1]]; (*\\[PartialD]\\[Zeta]/\\[PartialD]R*)\n",
    "dZetaDZSym = JacobianInvSym[[1, 2]]; (*\\[PartialD]\\[Zeta]/\\[PartialD]Z*)\n",
    "dEtaDRSym = JacobianInvSym[[2, 1]]; (*\\[PartialD]\\[Eta]/\\[PartialD]R*)\n",
    "dEtaDZSym = JacobianInvSym[[2, 2]]; (*\\[PartialD]\\[Eta]/\\[PartialD]Z*)"
   ]
  },
  {
   "cell_type": "code",
   "execution_count": null,
   "id": "ff4c5e7c-c911-4b8e-b2ba-5c48a5471a3f",
   "metadata": {},
   "outputs": [],
   "source": [
    "computePsiDerivatives[Rlist_, Zlist_, RpValue_, ZpValue_] := \n",
    "  Module[{psi, dPsiDzeta, dPsiDeta, dPsiDR, dPsiDZ, dZetadR, dZetadZ, dEtadR, dEtadZ, dPsiDRFunc, dPsiDZFunc, dPsidRVals, dPsidZVals},(*Multiply by Rp*)\n",
    "   psi = Simplify[RpValue*psiBase];\n",
    "   dPsiDzeta = Simplify[RpValue*dPsiDzetaBase];\n",
    "   dPsiDeta = Simplify[RpValue*dPsiDetaBase];\n",
    "   (*Substitute Rp and Zp in the precomputed Jacobian derivatives*)\n",
    "   dZetadR = Evaluate[dZetaDRSym /. {Rp -> RpValue, Zp -> ZpValue}];\n",
    "   dZetadZ = Evaluate[dZetaDZSym /. {Rp -> RpValue, Zp -> ZpValue}];\n",
    "   dEtadR = Evaluate[dEtaDRSym /. {Rp -> RpValue, Zp -> ZpValue}];\n",
    "   dEtadZ = Evaluate[dEtaDZSym /. {Rp -> RpValue, Zp -> ZpValue}];\n",
    "   (*Chain rule for the derivatives with respect to R and Z*)\n",
    "   dPsiDR = Simplify[dPsiDzeta*dZetadR + dPsiDeta*dEtadR];\n",
    "   dPsiDZ = Simplify[dPsiDzeta*dZetadZ + dPsiDeta*dEtadZ];\n",
    "   (*Compute numerical values for given lists of R and Z*)\n",
    "   dPsidRVals = MapThread[Function[{r, z}, Evaluate[dPsiDR] /. {zeta -> zetaRZ[r, z, RpValue, ZpValue], eta -> etaRZ[r, z, RpValue, ZpValue]}], {Rlist, Zlist}];\n",
    "   dPsidZVals = MapThread[Function[{r, z}, Evaluate[dPsiDZ] /. {zeta -> zetaRZ[r, z, RpValue, ZpValue], eta -> etaRZ[r, z, RpValue, ZpValue]}], {Rlist, Zlist}];\n",
    "   (*Return transposed list of results*)\n",
    "   Transpose[{dPsidRVals, dPsidZVals}]];"
   ]
  },
  {
   "cell_type": "code",
   "execution_count": null,
   "id": "495b73be-e9d5-4141-be3c-c576ae8abe05",
   "metadata": {},
   "outputs": [],
   "source": [
    "Regularization[Rvalue_, Zvalue_, Rp_, Zp_] := \n",
    " Module[{zeta, eta, dPsiDeta, d2PsiDeta2, rU, rUFunc, integral},(*Compute zeta and eta from R and Z*)\n",
    "  zeta = zetaRZ[Rvalue, Zvalue, Rp, Zp];\n",
    "  eta = etaRZ[Rvalue, Zvalue, Rp, Zp];\n",
    "  (*Compute first and second derivatives of psi w.r.t.eta at zeta0*)\n",
    "  dPsiDeta = D[psiBase, eta] /. {zeta -> zeta0};\n",
    "  d2PsiDeta2 = D[dPsiDeta, eta] /. {zeta -> zeta0};\n",
    "  dPsiDetazeta0 = dPsiDeta /. {zeta -> zeta0};\n",
    "  (*Compute regularization function rU*)\n",
    "  rU = (d2PsiDeta2*((Cosh[zeta0] - Cos[eta])/Rp)^2 + dPsiDetazeta0*((Cosh[zeta0] - Cos[eta])*Sin[eta]/Rp^2))^2*(Rp/(Cosh[zeta0] - Cos[eta]));\n",
    "  (*Convert rU into a numerical function*)\n",
    "  rUFunc = Function[{eta}, Evaluate[rU]];\n",
    "  (*Perform numerical integration over \\[Eta] from-\\[Pi] to \\[Pi]*)\n",
    "  integral = NIntegrate[rUFunc[eta], {eta, -Pi, Pi}];\n",
    "  (*Return the final result*)\n",
    "  integral]"
   ]
  },
  {
   "cell_type": "code",
   "execution_count": null,
   "id": "af01970d-f802-4c85-9959-6483b6ea3497",
   "metadata": {},
   "outputs": [],
   "source": [
    "(*Define the objective function:minimize squared error+regularization*)\n",
    "objectiveFunction[aEvars_, bEvars_, aIvars_, bIvars_] := \n",
    "  Module[{computedPsi, errorTerm, regTerm},(*Compute Psi derivatives*)\n",
    "   computedPsi = computePsiDerivatives[RList, ZList, RpValue, ZpValue, Array[aEvar, 7], Array[bEvar, 7], Array[aIvar, 4], Array[bIvar, 4]];\n",
    "   (*Compute squared error term*)\n",
    "   errorTerm = 0.5*Total[Flatten[(computedPsi - mData)^2]];\n",
    "   (*Regularization term (optional,can be adjusted)*)\n",
    "   regTerm = 0.1*Total[Flatten[(aEvars^2 + bEvars^2 + aIvars^2 + bIvars^2)]];\n",
    "   (*Return the function to be minimized*)errorTerm + regTerm];\n",
    "\n",
    "(*Perform the optimization to find the best-fit parameters*)\n",
    "solution = NMinimize[objectiveFunction[aE, bE, aI, bI], Flatten[{aE, bE, aI, bI}]];\n",
    "\n",
    "(*Extract optimized values*)\n",
    "optimizedCoefficients = Flatten[{aE, bE, aI, bI}] /. solution[[2]];"
   ]
  }
 ],
 "metadata": {
  "kernelspec": {
   "display_name": "Wolfram Language 14",
   "language": "Wolfram Language",
   "name": "wolframlanguage14"
  },
  "language_info": {
   "codemirror_mode": "mathematica",
   "file_extension": ".m",
   "mimetype": "application/vnd.wolfram.m",
   "name": "Wolfram Language",
   "pygments_lexer": "mathematica",
   "version": "12.0"
  }
 },
 "nbformat": 4,
 "nbformat_minor": 5
}
